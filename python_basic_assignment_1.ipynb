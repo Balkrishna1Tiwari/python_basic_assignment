{
 "cells": [
  {
   "cell_type": "markdown",
   "metadata": {},
   "source": [
    "# Question_1: Explain the key features of Python that make it a popular choice for programming language"
   ]
  },
  {
   "cell_type": "markdown",
   "metadata": {},
   "source": [
    "1.  Simplicity and Readability: Python's syntax is designed to be clear and readable, which makes it accessible forbeginners and experienced developers alike. Its elegant and straightforward style reduces the cost of program maintenance.\n",
    "\n",
    "2.  Versatility: Python is a versatile language that can be used for a wide range of applications, including web development, data analysis, artificial intelligence, scientific computing, and more. This versatility is      \n",
    "    supported by a vast ecosystem of libraries and frameworks.\n",
    "\n",
    "3.  Rich Standard Library: Python comes with a comprehensive standard library that provides modules and packages for tasks such as string operations, file I/O, web services, and more. This reduces the need for external libraries for many common programming tasks.\n",
    "\n",
    "4.  Interpreted and Interactive: Python is an interpreted language, which means that code can be executed line by  line, making it easier to test and debug.\n",
    "    Additionally, Python supports an interactive mode where you can  experiment with code snippets and immediately see the results.\n",
    "\n",
    "5.  Strong Community and Support: Python has a large and active community of developers who contribute to its growth and development. This community support is evident in the availability of resources, tutorials, and forums where developers can seek help and share knowledge.\n",
    "\n",
    "6.  Platform Independence: Python is highly portable and runs on various platforms including Windows, Linux, and   macOS. This makes it easier to develop applications that can run on different systems without modification.\n",
    "\n",
    "7.  Scalability: Python scales well with the size of projects. It can be used to write small scripts or large-scale applications. Many high-traffic websites and applications are built using Python frameworks such as Django and  Flask.\n",
    "\n",
    "8.  Libraries and Frameworks: Python has a vast ecosystem of third-party libraries and frameworks that extend its  capabilities. For example, NumPy and pandas for data manipulation, TensorFlow and PyTorch for machine learning,Django and Flask for web development, and many more.\n",
    "\n",
    "9.  Integration Capabilities: Python can easily interface with other languages like C/C++, allowing developers to optimize critical sections of code for performance while retaining Python's ease of use for other parts of the project.\n",
    "\n",
    "10. Adoption in Academia and Industry: Python's popularity in both academic and industrial settings has led to its widespread adoption. It is often the language of choice for teaching programming and data science due to its simplicity and power."
   ]
  },
  {
   "cell_type": "markdown",
   "metadata": {},
   "source": [
    "# Question_2 : Describe the role of predefined keywords in Python and provide examples of how they are used in a\n",
    "# program"
   ]
  },
  {
   "cell_type": "markdown",
   "metadata": {},
   "source": [
    "Predefined keywords : \n",
    "    1. Keywords are reserved words in Python that have special meanings and cannot be used as identifiers (variable names, function names, etc.). \n",
    "    \n",
    "    2. Examples of keywords include if, else, while, for, def, class, import, try, except, return, True, False,None, etc.\n",
    "    \n",
    "    3. Keywords are case-sensitive and cannot be redefined or overridden within a Python program"
   ]
  },
  {
   "cell_type": "code",
   "execution_count": 13,
   "metadata": {},
   "outputs": [
    {
     "name": "stdout",
     "output_type": "stream",
     "text": [
      "Hello world!\n"
     ]
    }
   ],
   "source": [
    "# Example:\n",
    "print(\"Hello world!\") # Here print is a keyword"
   ]
  },
  {
   "cell_type": "code",
   "execution_count": 14,
   "metadata": {},
   "outputs": [
    {
     "data": {
      "text/plain": [
       "3"
      ]
     },
     "execution_count": 14,
     "metadata": {},
     "output_type": "execute_result"
    }
   ],
   "source": [
    "#Example: \n",
    "a=3 # a is as a varible \n",
    "a"
   ]
  },
  {
   "cell_type": "markdown",
   "metadata": {},
   "source": [
    "# Question_3: Compare and contrast mutable and immutable obtects in Python with examples."
   ]
  },
  {
   "cell_type": "markdown",
   "metadata": {},
   "source": [
    "1.   In Python, objects can be either changeable (modifiable) or unchangeable (unchangeable). \n",
    "\n",
    "2.   Mutable objects, such as lists and dictionaries, can be modified after creation, while immutable objects, such as tuples and strings, cannot. \n",
    "\n",
    "3.   Mutability affects how objects are stored and manipulated in memory, impacting performance, memory usage, and  concurrency in Python programs."
   ]
  },
  {
   "cell_type": "code",
   "execution_count": 15,
   "metadata": {},
   "outputs": [
    {
     "data": {
      "text/plain": [
       "['Balkrishna', 'Subham', 'swati', 'Ravi']"
      ]
     },
     "execution_count": 15,
     "metadata": {},
     "output_type": "execute_result"
    }
   ],
   "source": [
    "# Example of Mutable\n",
    "list_ = [\"Balkrishna\",\"Subham\",\"swati\",\"Ravi\"] # list_ is a list\n",
    "list_"
   ]
  },
  {
   "cell_type": "code",
   "execution_count": 16,
   "metadata": {},
   "outputs": [
    {
     "data": {
      "text/plain": [
       "['Balkrishna', 'VINOD', 'swati', 'Ravi']"
      ]
     },
     "execution_count": 16,
     "metadata": {},
     "output_type": "execute_result"
    }
   ],
   "source": [
    "list_[1]=\"VINOD\" # list is a mutable because after creation that will be change\n",
    "list_"
   ]
  },
  {
   "cell_type": "code",
   "execution_count": 17,
   "metadata": {},
   "outputs": [
    {
     "data": {
      "text/plain": [
       "'pw Skills'"
      ]
     },
     "execution_count": 17,
     "metadata": {},
     "output_type": "execute_result"
    }
   ],
   "source": [
    "# Example of Immutable\n",
    "str1= \"pw Skills\" # str1 is a string\n",
    "str1"
   ]
  },
  {
   "cell_type": "code",
   "execution_count": 18,
   "metadata": {},
   "outputs": [
    {
     "ename": "TypeError",
     "evalue": "'str' object does not support item assignment",
     "output_type": "error",
     "traceback": [
      "\u001b[1;31m---------------------------------------------------------------------------\u001b[0m",
      "\u001b[1;31mTypeError\u001b[0m                                 Traceback (most recent call last)",
      "Cell \u001b[1;32mIn[18], line 1\u001b[0m\n\u001b[1;32m----> 1\u001b[0m \u001b[43mstr1\u001b[49m\u001b[43m[\u001b[49m\u001b[38;5;241;43m0\u001b[39;49m\u001b[43m  \u001b[49m\u001b[43m]\u001b[49m\u001b[38;5;241m=\u001b[39m\u001b[38;5;124m\"\u001b[39m\u001b[38;5;124mP\u001b[39m\u001b[38;5;124m\"\u001b[39m \u001b[38;5;66;03m# string is a immutable because after ceation will be not change string\u001b[39;00m\n\u001b[0;32m      2\u001b[0m str1      \u001b[38;5;66;03m# it will be give error\u001b[39;00m\n",
      "\u001b[1;31mTypeError\u001b[0m: 'str' object does not support item assignment"
     ]
    }
   ],
   "source": [
    "str1[0  ]=\"P\" # string is a immutable because after ceation will be not change string\n",
    "str1      # it will be give error"
   ]
  },
  {
   "cell_type": "markdown",
   "metadata": {},
   "source": [
    "# Question_4 : Discuss the different types of operators in Python and provide examples of how they are used .\n"
   ]
  },
  {
   "cell_type": "markdown",
   "metadata": {},
   "source": [
    "1.  Operators are special symbols or keywords that are used to carry out specific actions on numbers or variables in Python expressions. \n",
    "\n",
    "2   Python supports various types of operators, including arithmetic operators (+, -, *, /), comparison operators (==, !=, <, >), logical operators (and, or, not), assignment operators (=, +=, -=, *=, /=), etc.\n",
    "\n",
    "3.  Operators have precedence and associativity rules that determine the order of evaluation in expression."
   ]
  },
  {
   "cell_type": "code",
   "execution_count": null,
   "metadata": {},
   "outputs": [
    {
     "name": "stdout",
     "output_type": "stream",
     "text": [
      "11\n",
      "-1\n",
      "30\n",
      "0.8333333333333334\n",
      "0\n",
      "5\n"
     ]
    }
   ],
   "source": [
    "# Example: \n",
    "# arithmatic operater example:\n",
    "a=5\n",
    "b=6\n",
    "print(a+b)\n",
    "print(a-b)\n",
    "print(a*b)\n",
    "print(a/b)\n",
    "print(a//b)\n",
    "print(a%b)\n"
   ]
  },
  {
   "cell_type": "code",
   "execution_count": null,
   "metadata": {},
   "outputs": [
    {
     "name": "stdout",
     "output_type": "stream",
     "text": [
      "Valid Name\n"
     ]
    }
   ],
   "source": [
    "# Comparsion operater\n",
    "name= \"Balkrishna Tiwari\"\n",
    "if name==\"Balkrishna Tiwari\": # comparsion operater ==\n",
    "    print(\"Valid Name\")\n",
    "else:\n",
    "    print(\"Not Valid Name\")"
   ]
  },
  {
   "cell_type": "code",
   "execution_count": null,
   "metadata": {},
   "outputs": [
    {
     "data": {
      "text/plain": [
       "True"
      ]
     },
     "execution_count": 51,
     "metadata": {},
     "output_type": "execute_result"
    }
   ],
   "source": [
    "# logical operators (and, or, not)\n",
    "True and True"
   ]
  },
  {
   "cell_type": "code",
   "execution_count": null,
   "metadata": {},
   "outputs": [
    {
     "data": {
      "text/plain": [
       "True"
      ]
     },
     "execution_count": 52,
     "metadata": {},
     "output_type": "execute_result"
    }
   ],
   "source": [
    "True or False"
   ]
  },
  {
   "cell_type": "code",
   "execution_count": null,
   "metadata": {},
   "outputs": [
    {
     "data": {
      "text/plain": [
       "False"
      ]
     },
     "execution_count": 53,
     "metadata": {},
     "output_type": "execute_result"
    }
   ],
   "source": [
    "(not True)"
   ]
  },
  {
   "cell_type": "code",
   "execution_count": null,
   "metadata": {},
   "outputs": [
    {
     "data": {
      "text/plain": [
       "5"
      ]
     },
     "execution_count": 54,
     "metadata": {},
     "output_type": "execute_result"
    }
   ],
   "source": [
    "# assignment operators (=, +=, -=, *=, /=)\n",
    "a=5\n",
    "a"
   ]
  },
  {
   "cell_type": "code",
   "execution_count": null,
   "metadata": {},
   "outputs": [
    {
     "data": {
      "text/plain": [
       "10"
      ]
     },
     "execution_count": 55,
     "metadata": {},
     "output_type": "execute_result"
    }
   ],
   "source": [
    "a+=5\n",
    "a"
   ]
  },
  {
   "cell_type": "code",
   "execution_count": null,
   "metadata": {},
   "outputs": [
    {
     "data": {
      "text/plain": [
       "4"
      ]
     },
     "execution_count": 56,
     "metadata": {},
     "output_type": "execute_result"
    }
   ],
   "source": [
    "a-=6\n",
    "a"
   ]
  },
  {
   "cell_type": "code",
   "execution_count": null,
   "metadata": {},
   "outputs": [
    {
     "data": {
      "text/plain": [
       "28"
      ]
     },
     "execution_count": 57,
     "metadata": {},
     "output_type": "execute_result"
    }
   ],
   "source": [
    "a*=7\n",
    "a"
   ]
  },
  {
   "cell_type": "code",
   "execution_count": null,
   "metadata": {},
   "outputs": [
    {
     "data": {
      "text/plain": [
       "3.5"
      ]
     },
     "execution_count": 58,
     "metadata": {},
     "output_type": "execute_result"
    }
   ],
   "source": [
    "a/=8\n",
    "a"
   ]
  },
  {
   "cell_type": "code",
   "execution_count": null,
   "metadata": {},
   "outputs": [
    {
     "data": {
      "text/plain": [
       "0.0"
      ]
     },
     "execution_count": 59,
     "metadata": {},
     "output_type": "execute_result"
    }
   ],
   "source": [
    "a//=9\n",
    "a"
   ]
  },
  {
   "cell_type": "code",
   "execution_count": null,
   "metadata": {},
   "outputs": [
    {
     "data": {
      "text/plain": [
       "0.0"
      ]
     },
     "execution_count": 60,
     "metadata": {},
     "output_type": "execute_result"
    }
   ],
   "source": [
    "a%=8\n",
    "a"
   ]
  },
  {
   "cell_type": "code",
   "execution_count": null,
   "metadata": {},
   "outputs": [
    {
     "data": {
      "text/plain": [
       "['Balkrishna', 'Subham', 'swati', 'Ravi']"
      ]
     },
     "execution_count": 61,
     "metadata": {},
     "output_type": "execute_result"
    }
   ],
   "source": [
    "# Member ship Operater\n",
    "list_ = [\"Balkrishna\",\"Subham\",\"swati\",\"Ravi\"] # list_ is a list\n",
    "list_"
   ]
  },
  {
   "cell_type": "code",
   "execution_count": null,
   "metadata": {},
   "outputs": [
    {
     "data": {
      "text/plain": [
       "False"
      ]
     },
     "execution_count": 62,
     "metadata": {},
     "output_type": "execute_result"
    }
   ],
   "source": [
    "\"Balkrishna\" not in list_\n"
   ]
  },
  {
   "cell_type": "markdown",
   "metadata": {},
   "source": [
    "# Question_5 :Explain the concept of type casting in Python with examples.\n"
   ]
  },
  {
   "cell_type": "markdown",
   "metadata": {},
   "source": [
    "1.  Type casting, also referred to as type conversion, is the process of changing one data type to another in Python.\n",
    "\n",
    "2.  Python provides built-in functions for type casting, such as int(), float(), str(), list(), tuple(), dict(), etc.\n",
    "\n",
    "3.  Type casting is often necessary for performing arithmetic operations, data manipulation, and input/output operations in Python programs."
   ]
  },
  {
   "cell_type": "code",
   "execution_count": null,
   "metadata": {},
   "outputs": [
    {
     "data": {
      "text/plain": [
       "int"
      ]
     },
     "execution_count": 63,
     "metadata": {},
     "output_type": "execute_result"
    }
   ],
   "source": [
    "# Example of Type casting\n",
    "a=3\n",
    "type(a)"
   ]
  },
  {
   "cell_type": "code",
   "execution_count": null,
   "metadata": {},
   "outputs": [
    {
     "data": {
      "text/plain": [
       "str"
      ]
     },
     "execution_count": 64,
     "metadata": {},
     "output_type": "execute_result"
    }
   ],
   "source": [
    "name=\"Balkrishna Tiwari\"\n",
    "type(name)"
   ]
  },
  {
   "cell_type": "code",
   "execution_count": null,
   "metadata": {},
   "outputs": [
    {
     "data": {
      "text/plain": [
       "float"
      ]
     },
     "execution_count": 65,
     "metadata": {},
     "output_type": "execute_result"
    }
   ],
   "source": [
    "num=3.4\n",
    "type(num)"
   ]
  },
  {
   "cell_type": "code",
   "execution_count": null,
   "metadata": {},
   "outputs": [
    {
     "data": {
      "text/plain": [
       "list"
      ]
     },
     "execution_count": 66,
     "metadata": {},
     "output_type": "execute_result"
    }
   ],
   "source": [
    "lis =[1,2,3,4,5,6,7,8]\n",
    "type(lis)"
   ]
  },
  {
   "cell_type": "code",
   "execution_count": null,
   "metadata": {},
   "outputs": [
    {
     "data": {
      "text/plain": [
       "str"
      ]
     },
     "execution_count": 67,
     "metadata": {},
     "output_type": "execute_result"
    }
   ],
   "source": [
    "tup=('Balkrishna Tiwari,6,7,8,9')\n",
    "type(tup)"
   ]
  },
  {
   "cell_type": "code",
   "execution_count": null,
   "metadata": {},
   "outputs": [
    {
     "name": "stdout",
     "output_type": "stream",
     "text": [
      "<class 'str'>\n"
     ]
    }
   ],
   "source": [
    "# Type casting >> conversion one data type to another data type\n",
    "# integer to string\n",
    "a=5\n",
    "print(type(str(a)))"
   ]
  },
  {
   "cell_type": "code",
   "execution_count": null,
   "metadata": {},
   "outputs": [
    {
     "name": "stdout",
     "output_type": "stream",
     "text": [
      "<class 'float'>\n"
     ]
    }
   ],
   "source": [
    "# integer to float\n",
    "a=5\n",
    "print(type(float(a)))"
   ]
  },
  {
   "cell_type": "code",
   "execution_count": null,
   "metadata": {},
   "outputs": [
    {
     "name": "stdout",
     "output_type": "stream",
     "text": [
      "<class 'tuple'>\n"
     ]
    }
   ],
   "source": [
    "# list to tuple\n",
    "lis=[1,2,3.4]\n",
    "print(type(tuple(lis)))"
   ]
  },
  {
   "cell_type": "markdown",
   "metadata": {},
   "source": [
    "# Question_6:  How do conditional statements work in Python? Illustrate with examples ."
   ]
  },
  {
   "cell_type": "markdown",
   "metadata": {},
   "source": [
    "1.  Conditionals in Python are used to execute code based on the evaluation of one or more conditions.\n",
    "\n",
    "2.  Python supports conditional statements such as if, elif (else if), and else to control the flow of execution.\n",
    "\n",
    "3.  Conditionals can be nested to handle multiple conditions and control different branches of execution based on the outcome of logical expressions."
   ]
  },
  {
   "cell_type": "code",
   "execution_count": null,
   "metadata": {},
   "outputs": [
    {
     "name": "stdout",
     "output_type": "stream",
     "text": [
      "you are all rounder\n"
     ]
    }
   ],
   "source": [
    "# Example\n",
    "# if statement\n",
    "grade =8\n",
    "co_cirr=True\n",
    "if ((grade >=8) and (co_cirr == True)):\n",
    "    print(\"you are all rounder\")"
   ]
  },
  {
   "cell_type": "code",
   "execution_count": null,
   "metadata": {},
   "outputs": [
    {
     "name": "stdout",
     "output_type": "stream",
     "text": [
      "Valid roll_no\n"
     ]
    }
   ],
   "source": [
    "# if- else statement \n",
    "roll_no=\"0302CS2110**\"\n",
    "if \"CS\" in roll_no:\n",
    "    print(\"Valid roll_no\")\n",
    "else:\n",
    "    print(\"Not valid roll_No\")"
   ]
  },
  {
   "cell_type": "code",
   "execution_count": null,
   "metadata": {},
   "outputs": [
    {
     "name": "stdout",
     "output_type": "stream",
     "text": [
      "The number is huge\n"
     ]
    }
   ],
   "source": [
    "# if - elif - else statement\n",
    "a=3000\n",
    "if a<100:\n",
    "    print(\"this block will be executed if a is lesser than 100\")\n",
    "elif a>2000:\n",
    "    print(\"The number is huge\")\n",
    "elif a>100:\n",
    "    print(\"This block will be executed if a is greather than 100\")\n",
    "else:\n",
    "    print(\"The number is equals to 100\")"
   ]
  },
  {
   "cell_type": "code",
   "execution_count": null,
   "metadata": {},
   "outputs": [
    {
     "name": "stdout",
     "output_type": "stream",
     "text": [
      "Both x and y is greather than 5\n"
     ]
    }
   ],
   "source": [
    "# nested if else\n",
    "x=6\n",
    "y=6\n",
    "if x>5:\n",
    "    if y>5:\n",
    "        print(\"Both x and y is greather than 5\")\n",
    "    else:\n",
    "        print(\"x is a greather than 5 but y is less than 5 \")\n",
    "else:\n",
    "    print(\"x is not greather than 5\")"
   ]
  },
  {
   "cell_type": "markdown",
   "metadata": {},
   "source": [
    "# Question_7 : Describe the different types of loops in Python and their use cases with example"
   ]
  },
  {
   "cell_type": "markdown",
   "metadata": {},
   "source": [
    "1.   In Python, loops are employed to repeat a sequence of actions or code until a specific condition is fulfilled. \n",
    "\n",
    "2.   Python offers two primary types of loops: for loops and while loops.\n",
    "\n",
    "3.   “for” loops are used for iterating over a sequence of elements, while “while” loops are used for executing code until a specified condition becomes False"
   ]
  },
  {
   "cell_type": "code",
   "execution_count": null,
   "metadata": {},
   "outputs": [
    {
     "name": "stdout",
     "output_type": "stream",
     "text": [
      "Print the enen number= \n",
      "Even Number = 2. \n",
      "Even Number = 4. \n",
      "Even Number = 6. \n",
      "Even Number = 8. \n",
      "Even Number = 10. \n",
      "Even Number = 12. \n",
      "Even Number = 14. \n",
      "Even Number = 16. \n",
      "Even Number = 18. \n",
      "Even Number = 20. \n",
      "Even Number = 22. \n",
      "Even Number = 24. \n",
      "Even Number = 26. \n",
      "Even Number = 28. \n",
      "Print the Odd number= \n",
      "Odd Number = 1.\n",
      "Odd Number = 3.\n",
      "Odd Number = 5.\n",
      "Odd Number = 7.\n",
      "Odd Number = 9.\n",
      "Odd Number = 11.\n",
      "Odd Number = 13.\n",
      "Odd Number = 15.\n",
      "Odd Number = 17.\n",
      "Odd Number = 19.\n",
      "Odd Number = 21.\n",
      "Odd Number = 23.\n",
      "Odd Number = 25.\n",
      "Odd Number = 27.\n",
      "Odd Number = 29.\n"
     ]
    }
   ],
   "source": [
    "# Example of for loop\n",
    "# print the even number \n",
    "print(\"Print the enen number= \")\n",
    "for i in range (1,30):\n",
    "    if i%2==0:\n",
    "        print(f\"Even Number = {i}. \")\n",
    "# print the odd number\n",
    "print(\"Print the Odd number= \")\n",
    "for i in range (1,30):\n",
    "    if i%2!=0:\n",
    "        print(f\"Odd Number = {i}.\")"
   ]
  },
  {
   "cell_type": "code",
   "execution_count": null,
   "metadata": {},
   "outputs": [
    {
     "name": "stdout",
     "output_type": "stream",
     "text": [
      "5\n",
      "4\n",
      "3\n",
      "2\n",
      "1\n"
     ]
    }
   ],
   "source": [
    "# While loop Example\n",
    "count = 5\n",
    "while count > 0:\n",
    "    print(count)\n",
    "    count= count-1"
   ]
  },
  {
   "cell_type": "code",
   "execution_count": null,
   "metadata": {},
   "outputs": [
    {
     "name": "stdout",
     "output_type": "stream",
     "text": [
      "Print the enen number= \n",
      "Even Number = 2. \n",
      "Print the Odd number= \n",
      "Odd Number = 1.\n"
     ]
    }
   ],
   "source": [
    "# Example of break statement \n",
    "# print the even number \n",
    "print(\"Print the enen number= \")\n",
    "for i in range (1,30):\n",
    "    if i%2==0:\n",
    "        print(f\"Even Number = {i}. \")\n",
    "        break\n",
    "# print the odd number\n",
    "print(\"Print the Odd number= \")\n",
    "for i in range (1,30):\n",
    "    if i%2!=0:\n",
    "        print(f\"Odd Number = {i}.\")\n",
    "        break"
   ]
  },
  {
   "cell_type": "code",
   "execution_count": null,
   "metadata": {},
   "outputs": [
    {
     "name": "stdout",
     "output_type": "stream",
     "text": [
      "Print the enen number= \n",
      "Even Number = 2. \n",
      "Even Number = 4. \n",
      "Even Number = 6. \n",
      "Even Number = 8. \n",
      "Even Number = 10. \n",
      "Even Number = 12. \n",
      "Even Number = 14. \n",
      "Even Number = 16. \n",
      "Even Number = 18. \n",
      "Even Number = 20. \n",
      "Even Number = 22. \n",
      "Even Number = 24. \n",
      "Even Number = 26. \n",
      "Even Number = 28. \n",
      "Print the Odd number= \n",
      "Even Number = 1. \n",
      "Even Number = 3. \n",
      "Even Number = 5. \n",
      "Even Number = 7. \n",
      "Even Number = 9. \n",
      "Even Number = 11. \n",
      "Even Number = 13. \n",
      "Even Number = 15. \n",
      "Even Number = 17. \n",
      "Even Number = 19. \n",
      "Even Number = 21. \n",
      "Even Number = 23. \n",
      "Even Number = 25. \n",
      "Even Number = 27. \n",
      "Even Number = 29. \n"
     ]
    }
   ],
   "source": [
    "# Example of continue statement\n",
    "# print the even number \n",
    "print(\"Print the enen number= \")\n",
    "for i in range (1,30):\n",
    "    if i%2==0:\n",
    "        if i==3:\n",
    "            continue\n",
    "        print(f\"Even Number = {i}. \")\n",
    "# print the odd number\n",
    "print(\"Print the Odd number= \")\n",
    "for i in range (1,30):\n",
    "    if i%2!=0:\n",
    "        if i==4:\n",
    "            continue\n",
    "        print(f\"Even Number = {i}. \")\n",
    "            "
   ]
  }
 ],
 "metadata": {
  "kernelspec": {
   "display_name": "Python 3",
   "language": "python",
   "name": "python3"
  },
  "language_info": {
   "codemirror_mode": {
    "name": "ipython",
    "version": 3
   },
   "file_extension": ".py",
   "mimetype": "text/x-python",
   "name": "python",
   "nbconvert_exporter": "python",
   "pygments_lexer": "ipython3",
   "version": "3.12.4"
  }
 },
 "nbformat": 4,
 "nbformat_minor": 2
}
